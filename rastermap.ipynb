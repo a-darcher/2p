{
 "cells": [
  {
   "cell_type": "code",
   "execution_count": 30,
   "metadata": {},
   "outputs": [
    {
     "name": "stdout",
     "output_type": "stream",
     "text": [
      "Directory:\n",
      "C:\\Users\\adarcher\\Downloads\\rastermap-master\\rastermap-master\\rastermap\n",
      "File shape:\n",
      "(824, 67502)\n",
      "time; iteration;  explained PC variance\n",
      "0.00s     0        0.0070\n",
      "0.01s    10        0.0355\n",
      "0.02s    20        0.0422\n",
      "0.03s    30        0.0557\n",
      "0.04s    40        0.0478\n",
      "0.05s    50        0.0477\n",
      "0.05s   final      0.0476\n",
      "0.05s upsampled    0.0499\n",
      "time; iteration;  explained PC variance\n",
      "0.00s     0        0.0070\n",
      "0.01s    10        0.0355\n",
      "0.02s    20        0.0422\n",
      "0.03s    30        0.0557\n",
      "0.04s    40        0.0478\n",
      "0.05s    50        0.0477\n",
      "0.06s   final      0.0476\n",
      "0.06s upsampled    0.0499\n"
     ]
    },
    {
     "data": {
      "image/png": "[encoded data removed]",
      "text/plain": [
       "<Figure size 432x288 with 1 Axes>"
      ]
     },
     "metadata": {
      "needs_background": "light"
     },
     "output_type": "display_data"
    }
   ],
   "source": [
    "import os\n",
    "import numpy as np\n",
    "import matplotlib.pyplot as plt\n",
    "path = 'C:/Users/adarcher/Downloads/rastermap-master/rastermap-master/rastermap'\n",
    "os.chdir(path)\n",
    "print('Directory:')\n",
    "print(os.getcwd())\n",
    "from mapping import Rastermap\n",
    "\n",
    "# >> from pip <<\n",
    "from rastermap import Rastermap\n",
    "\n",
    "model = Rastermap(n_components=1, n_X=30, nPC=200, init='pca')\n",
    "\n",
    "# fit does not return anything, it adds attributes to model\n",
    "# attributes: embedding, u, s, v, isort1\n",
    "\n",
    "sp = np.load('C:/Users/adarcher/Desktop/suite2p/plane0/spks.npy')\n",
    "print('File shape:')\n",
    "print(sp.shape)\n",
    "model.fit(sp)\n",
    "\n",
    "\n",
    "plt.imshow(sp[model.isort1, :])\n",
    "\n",
    "# fit_transform returns embedding (upsampled cluster identities)\n",
    "embedding = model.fit_transform(sp)\n",
    "\n",
    "# transform can be used on new samples with the same number of features as sp\n",
    "#embed2 = model.transform(sp2)"
   ]
  },
  {
   "cell_type": "code",
   "execution_count": null,
   "metadata": {},
   "outputs": [],
   "source": []
  }
 ],
 "metadata": {
  "kernelspec": {
   "display_name": "Python 3",
   "language": "python",
   "name": "python3"
  },
  "language_info": {
   "codemirror_mode": {
    "name": "ipython",
    "version": 3
   },
   "file_extension": ".py",
   "mimetype": "text/x-python",
   "name": "python",
   "nbconvert_exporter": "python",
   "pygments_lexer": "ipython3",
   "version": "3.7.1"
  }
 },
 "nbformat": 4,
 "nbformat_minor": 2
}
